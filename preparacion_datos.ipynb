{
 "metadata": {
  "language_info": {
   "codemirror_mode": {
    "name": "ipython",
    "version": 3
   },
   "file_extension": ".py",
   "mimetype": "text/x-python",
   "name": "python",
   "nbconvert_exporter": "python",
   "pygments_lexer": "ipython3",
   "version": "3.7.6-final"
  },
  "orig_nbformat": 2,
  "kernelspec": {
   "name": "python3",
   "display_name": "Python 3",
   "language": "python"
  }
 },
 "nbformat": 4,
 "nbformat_minor": 2,
 "cells": [
  {
   "source": [
    "# Creación del dataset"
   ],
   "cell_type": "markdown",
   "metadata": {}
  },
  {
   "cell_type": "code",
   "execution_count": 1,
   "metadata": {},
   "outputs": [],
   "source": [
    "import pandas as pd"
   ]
  },
  {
   "source": [
    "Convertimos el raw_dataset en un pandas dataframe con el formato que nos interesa"
   ],
   "cell_type": "markdown",
   "metadata": {}
  },
  {
   "cell_type": "code",
   "execution_count": 2,
   "metadata": {},
   "outputs": [
    {
     "output_type": "execute_result",
     "data": {
      "text/plain": [
       "   Curso      #      Id  Score                    Date\n",
       "0  19/20  838.0  3175.0    8.5  2020-03-30 18:35:15+02\n",
       "1  19/20  837.0  3209.0    7.5  2020-03-30 17:16:20+02\n",
       "2  19/20  836.0  3229.0    8.5  2020-03-30 11:23:42+02\n",
       "3  19/20  835.0  3229.0    NaN  2020-03-30 10:48:41+02\n",
       "4  19/20  834.0  3229.0    NaN  2020-03-30 10:47:22+02"
      ],
      "text/html": "<div>\n<style scoped>\n    .dataframe tbody tr th:only-of-type {\n        vertical-align: middle;\n    }\n\n    .dataframe tbody tr th {\n        vertical-align: top;\n    }\n\n    .dataframe thead th {\n        text-align: right;\n    }\n</style>\n<table border=\"1\" class=\"dataframe\">\n  <thead>\n    <tr style=\"text-align: right;\">\n      <th></th>\n      <th>Curso</th>\n      <th>#</th>\n      <th>Id</th>\n      <th>Score</th>\n      <th>Date</th>\n    </tr>\n  </thead>\n  <tbody>\n    <tr>\n      <th>0</th>\n      <td>19/20</td>\n      <td>838.0</td>\n      <td>3175.0</td>\n      <td>8.5</td>\n      <td>2020-03-30 18:35:15+02</td>\n    </tr>\n    <tr>\n      <th>1</th>\n      <td>19/20</td>\n      <td>837.0</td>\n      <td>3209.0</td>\n      <td>7.5</td>\n      <td>2020-03-30 17:16:20+02</td>\n    </tr>\n    <tr>\n      <th>2</th>\n      <td>19/20</td>\n      <td>836.0</td>\n      <td>3229.0</td>\n      <td>8.5</td>\n      <td>2020-03-30 11:23:42+02</td>\n    </tr>\n    <tr>\n      <th>3</th>\n      <td>19/20</td>\n      <td>835.0</td>\n      <td>3229.0</td>\n      <td>NaN</td>\n      <td>2020-03-30 10:48:41+02</td>\n    </tr>\n    <tr>\n      <th>4</th>\n      <td>19/20</td>\n      <td>834.0</td>\n      <td>3229.0</td>\n      <td>NaN</td>\n      <td>2020-03-30 10:47:22+02</td>\n    </tr>\n  </tbody>\n</table>\n</div>"
     },
     "metadata": {},
     "execution_count": 2
    }
   ],
   "source": [
    "data1920 = pd.read_excel('data/raw_dataset.xlsx', sheet_name='Applied Computing', index_col=None, na_values=['No terminado'], usecols = \"A:D\", skiprows=1)\n",
    "data1920.dropna(how='all', inplace=True)\n",
    "data1920.insert(loc=0, column = 'Curso', value = '19/20')\n",
    "data1920.head()"
   ]
  },
  {
   "cell_type": "code",
   "execution_count": 3,
   "metadata": {},
   "outputs": [
    {
     "output_type": "execute_result",
     "data": {
      "text/plain": [
       "   Curso       #      Id  Score                    Date\n",
       "0  18/19  1175.0  3021.0    9.0  2019-05-21 20:10:52+02\n",
       "1  18/19  1174.0  2865.0    5.5  2019-05-21 15:35:20+02\n",
       "2  18/19  1173.0  2851.0    9.0  2019-05-21 15:33:15+02\n",
       "3  18/19  1172.0  2821.0    6.0  2019-05-21 13:38:42+02\n",
       "4  18/19  1171.0  2736.0    5.5  2019-05-21 13:37:20+02"
      ],
      "text/html": "<div>\n<style scoped>\n    .dataframe tbody tr th:only-of-type {\n        vertical-align: middle;\n    }\n\n    .dataframe tbody tr th {\n        vertical-align: top;\n    }\n\n    .dataframe thead th {\n        text-align: right;\n    }\n</style>\n<table border=\"1\" class=\"dataframe\">\n  <thead>\n    <tr style=\"text-align: right;\">\n      <th></th>\n      <th>Curso</th>\n      <th>#</th>\n      <th>Id</th>\n      <th>Score</th>\n      <th>Date</th>\n    </tr>\n  </thead>\n  <tbody>\n    <tr>\n      <th>0</th>\n      <td>18/19</td>\n      <td>1175.0</td>\n      <td>3021.0</td>\n      <td>9.0</td>\n      <td>2019-05-21 20:10:52+02</td>\n    </tr>\n    <tr>\n      <th>1</th>\n      <td>18/19</td>\n      <td>1174.0</td>\n      <td>2865.0</td>\n      <td>5.5</td>\n      <td>2019-05-21 15:35:20+02</td>\n    </tr>\n    <tr>\n      <th>2</th>\n      <td>18/19</td>\n      <td>1173.0</td>\n      <td>2851.0</td>\n      <td>9.0</td>\n      <td>2019-05-21 15:33:15+02</td>\n    </tr>\n    <tr>\n      <th>3</th>\n      <td>18/19</td>\n      <td>1172.0</td>\n      <td>2821.0</td>\n      <td>6.0</td>\n      <td>2019-05-21 13:38:42+02</td>\n    </tr>\n    <tr>\n      <th>4</th>\n      <td>18/19</td>\n      <td>1171.0</td>\n      <td>2736.0</td>\n      <td>5.5</td>\n      <td>2019-05-21 13:37:20+02</td>\n    </tr>\n  </tbody>\n</table>\n</div>"
     },
     "metadata": {},
     "execution_count": 3
    }
   ],
   "source": [
    "data1819 = pd.read_excel('data/raw_dataset.xlsx', sheet_name='Applied Computing', index_col=None, na_values=['No terminado'], usecols = \"E:H\", skiprows=19)\n",
    "data1819.dropna(how='all', inplace=True)\n",
    "data1819.insert(loc=0, column = 'Curso', value = '18/19')\n",
    "data1819.head()"
   ]
  },
  {
   "cell_type": "code",
   "execution_count": 4,
   "metadata": {},
   "outputs": [
    {
     "output_type": "execute_result",
     "data": {
      "text/plain": [
       "   Curso     #    Id  Score                    Date\n",
       "0  17/18  1345  2311    8.0  2018-06-01 15:03:04+02\n",
       "1  17/18  1344  2308    8.0  2018-06-01 15:01:31+02\n",
       "2  17/18  1343  2276    9.5  2018-06-01 14:51:46+02\n",
       "3  17/18  1342  2276    8.5  2018-06-01 14:07:59+02\n",
       "4  17/18  1341  2300    6.0  2018-06-01 14:06:12+02"
      ],
      "text/html": "<div>\n<style scoped>\n    .dataframe tbody tr th:only-of-type {\n        vertical-align: middle;\n    }\n\n    .dataframe tbody tr th {\n        vertical-align: top;\n    }\n\n    .dataframe thead th {\n        text-align: right;\n    }\n</style>\n<table border=\"1\" class=\"dataframe\">\n  <thead>\n    <tr style=\"text-align: right;\">\n      <th></th>\n      <th>Curso</th>\n      <th>#</th>\n      <th>Id</th>\n      <th>Score</th>\n      <th>Date</th>\n    </tr>\n  </thead>\n  <tbody>\n    <tr>\n      <th>0</th>\n      <td>17/18</td>\n      <td>1345</td>\n      <td>2311</td>\n      <td>8.0</td>\n      <td>2018-06-01 15:03:04+02</td>\n    </tr>\n    <tr>\n      <th>1</th>\n      <td>17/18</td>\n      <td>1344</td>\n      <td>2308</td>\n      <td>8.0</td>\n      <td>2018-06-01 15:01:31+02</td>\n    </tr>\n    <tr>\n      <th>2</th>\n      <td>17/18</td>\n      <td>1343</td>\n      <td>2276</td>\n      <td>9.5</td>\n      <td>2018-06-01 14:51:46+02</td>\n    </tr>\n    <tr>\n      <th>3</th>\n      <td>17/18</td>\n      <td>1342</td>\n      <td>2276</td>\n      <td>8.5</td>\n      <td>2018-06-01 14:07:59+02</td>\n    </tr>\n    <tr>\n      <th>4</th>\n      <td>17/18</td>\n      <td>1341</td>\n      <td>2300</td>\n      <td>6.0</td>\n      <td>2018-06-01 14:06:12+02</td>\n    </tr>\n  </tbody>\n</table>\n</div>"
     },
     "metadata": {},
     "execution_count": 4
    }
   ],
   "source": [
    "data1718 = pd.read_excel('data/raw_dataset.xlsx', sheet_name='Applied Computing', index_col=None, na_values=['No terminado'], usecols = \"I:L\", skiprows=69)\n",
    "data1718.dropna(how='all', inplace=True)\n",
    "data1718.insert(loc=0, column = 'Curso', value = '17/18')\n",
    "data1718.head()"
   ]
  },
  {
   "cell_type": "code",
   "execution_count": 5,
   "metadata": {},
   "outputs": [
    {
     "output_type": "execute_result",
     "data": {
      "text/plain": [
       "   CURSO     SEQ      ID  SCORE                       DATE\n",
       "0  17/18  1345.0  2311.0    8.0  2018-06-01 15:03:04+02:00\n",
       "1  17/18  1344.0  2308.0    8.0  2018-06-01 15:01:31+02:00\n",
       "2  17/18  1343.0  2276.0    9.5  2018-06-01 14:51:46+02:00\n",
       "3  17/18  1342.0  2276.0    8.5  2018-06-01 14:07:59+02:00\n",
       "4  17/18  1341.0  2300.0    6.0  2018-06-01 14:06:12+02:00"
      ],
      "text/html": "<div>\n<style scoped>\n    .dataframe tbody tr th:only-of-type {\n        vertical-align: middle;\n    }\n\n    .dataframe tbody tr th {\n        vertical-align: top;\n    }\n\n    .dataframe thead th {\n        text-align: right;\n    }\n</style>\n<table border=\"1\" class=\"dataframe\">\n  <thead>\n    <tr style=\"text-align: right;\">\n      <th></th>\n      <th>CURSO</th>\n      <th>SEQ</th>\n      <th>ID</th>\n      <th>SCORE</th>\n      <th>DATE</th>\n    </tr>\n  </thead>\n  <tbody>\n    <tr>\n      <th>0</th>\n      <td>17/18</td>\n      <td>1345.0</td>\n      <td>2311.0</td>\n      <td>8.0</td>\n      <td>2018-06-01 15:03:04+02:00</td>\n    </tr>\n    <tr>\n      <th>1</th>\n      <td>17/18</td>\n      <td>1344.0</td>\n      <td>2308.0</td>\n      <td>8.0</td>\n      <td>2018-06-01 15:01:31+02:00</td>\n    </tr>\n    <tr>\n      <th>2</th>\n      <td>17/18</td>\n      <td>1343.0</td>\n      <td>2276.0</td>\n      <td>9.5</td>\n      <td>2018-06-01 14:51:46+02:00</td>\n    </tr>\n    <tr>\n      <th>3</th>\n      <td>17/18</td>\n      <td>1342.0</td>\n      <td>2276.0</td>\n      <td>8.5</td>\n      <td>2018-06-01 14:07:59+02:00</td>\n    </tr>\n    <tr>\n      <th>4</th>\n      <td>17/18</td>\n      <td>1341.0</td>\n      <td>2300.0</td>\n      <td>6.0</td>\n      <td>2018-06-01 14:06:12+02:00</td>\n    </tr>\n  </tbody>\n</table>\n</div>"
     },
     "metadata": {},
     "execution_count": 5
    }
   ],
   "source": [
    "dataComputing = pd.concat([data1718, data1819, data1920], ignore_index=True)\n",
    "dataComputing.columns = ['CURSO', 'SEQ', 'ID', 'SCORE', 'DATE']\n",
    "dataComputing['DATE'] = pd.to_datetime(dataComputing.DATE)\n",
    "dataComputing.head()"
   ]
  },
  {
   "cell_type": "code",
   "execution_count": 6,
   "metadata": {},
   "outputs": [
    {
     "output_type": "execute_result",
     "data": {
      "text/plain": [
       "{'17/18': datetime.datetime(2018, 6, 1, 15, 3, 4, tzinfo=tzoffset(None, 7200)),\n",
       " '18/19': datetime.datetime(2019, 5, 21, 20, 10, 52, tzinfo=tzoffset(None, 7200)),\n",
       " '19/20': datetime.datetime(2020, 3, 30, 18, 35, 15, tzinfo=tzoffset(None, 7200))}"
      ]
     },
     "metadata": {},
     "execution_count": 6
    }
   ],
   "source": [
    "max_dates = {curso: max(dataComputing[dataComputing.CURSO == curso].DATE) for curso in dataComputing.CURSO.unique()}\n",
    "max_dates"
   ]
  },
  {
   "cell_type": "code",
   "execution_count": 7,
   "metadata": {},
   "outputs": [],
   "source": [
    "dataComputing['DUF'] = [(max_dates[curso]-fecha).days for curso, fecha in dataComputing[['CURSO', 'DATE']].values]"
   ]
  },
  {
   "cell_type": "code",
   "execution_count": 8,
   "metadata": {},
   "outputs": [
    {
     "output_type": "execute_result",
     "data": {
      "text/plain": [
       "   CURSO     SEQ      ID  SCORE                       DATE  DUF\n",
       "0  17/18  1345.0  2311.0    8.0  2018-06-01 15:03:04+02:00    0\n",
       "1  17/18  1344.0  2308.0    8.0  2018-06-01 15:01:31+02:00    0\n",
       "2  17/18  1343.0  2276.0    9.5  2018-06-01 14:51:46+02:00    0\n",
       "3  17/18  1342.0  2276.0    8.5  2018-06-01 14:07:59+02:00    0\n",
       "4  17/18  1341.0  2300.0    6.0  2018-06-01 14:06:12+02:00    0"
      ],
      "text/html": "<div>\n<style scoped>\n    .dataframe tbody tr th:only-of-type {\n        vertical-align: middle;\n    }\n\n    .dataframe tbody tr th {\n        vertical-align: top;\n    }\n\n    .dataframe thead th {\n        text-align: right;\n    }\n</style>\n<table border=\"1\" class=\"dataframe\">\n  <thead>\n    <tr style=\"text-align: right;\">\n      <th></th>\n      <th>CURSO</th>\n      <th>SEQ</th>\n      <th>ID</th>\n      <th>SCORE</th>\n      <th>DATE</th>\n      <th>DUF</th>\n    </tr>\n  </thead>\n  <tbody>\n    <tr>\n      <th>0</th>\n      <td>17/18</td>\n      <td>1345.0</td>\n      <td>2311.0</td>\n      <td>8.0</td>\n      <td>2018-06-01 15:03:04+02:00</td>\n      <td>0</td>\n    </tr>\n    <tr>\n      <th>1</th>\n      <td>17/18</td>\n      <td>1344.0</td>\n      <td>2308.0</td>\n      <td>8.0</td>\n      <td>2018-06-01 15:01:31+02:00</td>\n      <td>0</td>\n    </tr>\n    <tr>\n      <th>2</th>\n      <td>17/18</td>\n      <td>1343.0</td>\n      <td>2276.0</td>\n      <td>9.5</td>\n      <td>2018-06-01 14:51:46+02:00</td>\n      <td>0</td>\n    </tr>\n    <tr>\n      <th>3</th>\n      <td>17/18</td>\n      <td>1342.0</td>\n      <td>2276.0</td>\n      <td>8.5</td>\n      <td>2018-06-01 14:07:59+02:00</td>\n      <td>0</td>\n    </tr>\n    <tr>\n      <th>4</th>\n      <td>17/18</td>\n      <td>1341.0</td>\n      <td>2300.0</td>\n      <td>6.0</td>\n      <td>2018-06-01 14:06:12+02:00</td>\n      <td>0</td>\n    </tr>\n  </tbody>\n</table>\n</div>"
     },
     "metadata": {},
     "execution_count": 8
    }
   ],
   "source": [
    "dataComputing.head()"
   ]
  },
  {
   "source": [
    "# Desarrollo de test para el dataset"
   ],
   "cell_type": "markdown",
   "metadata": {}
  },
  {
   "cell_type": "code",
   "execution_count": 9,
   "metadata": {},
   "outputs": [
    {
     "output_type": "execute_result",
     "data": {
      "text/plain": [
       "[]"
      ]
     },
     "metadata": {},
     "execution_count": 9
    }
   ],
   "source": [
    "[False for curso in dataComputing.CURSO.unique() if curso not in ['17/18', '18/19', '19/20']]"
   ]
  },
  {
   "cell_type": "code",
   "execution_count": 10,
   "metadata": {},
   "outputs": [
    {
     "output_type": "execute_result",
     "data": {
      "text/plain": [
       "0"
      ]
     },
     "metadata": {},
     "execution_count": 10
    }
   ],
   "source": [
    "len([curso for curso in dataComputing.CURSO.unique() if curso not in ['17/18', '18/19', '19/20']])\n"
   ]
  },
  {
   "cell_type": "code",
   "execution_count": 11,
   "metadata": {},
   "outputs": [
    {
     "output_type": "execute_result",
     "data": {
      "text/plain": [
       "0"
      ]
     },
     "metadata": {},
     "execution_count": 11
    }
   ],
   "source": [
    "len([nota for nota in dataComputing.SCORE.unique() if (nota>10)|(nota<0) ])"
   ]
  },
  {
   "cell_type": "code",
   "execution_count": 12,
   "metadata": {},
   "outputs": [
    {
     "output_type": "execute_result",
     "data": {
      "text/plain": [
       "0"
      ]
     },
     "metadata": {},
     "execution_count": 12
    }
   ],
   "source": [
    "len([duf for duf in dataComputing.DUF.unique() if (duf<0) ])"
   ]
  },
  {
   "cell_type": "code",
   "execution_count": null,
   "metadata": {},
   "outputs": [],
   "source": []
  },
  {
   "source": [
    "# Caso 1: agrupación de las notas en las 3 últimas y realizar el clustering"
   ],
   "cell_type": "markdown",
   "metadata": {}
  },
  {
   "cell_type": "code",
   "execution_count": 13,
   "metadata": {},
   "outputs": [],
   "source": [
    "# Eliminamos los \"No terminados\"\n",
    "data1 = dataComputing[pd.isnull(dataComputing.SCORE)==False]\n",
    "# data1.drop(['SEQ'], axis = 1, inplace = True)"
   ]
  },
  {
   "cell_type": "code",
   "execution_count": 14,
   "metadata": {},
   "outputs": [
    {
     "output_type": "execute_result",
     "data": {
      "text/plain": [
       "   CURSO     SEQ      ID  SCORE                       DATE  DUF\n",
       "0  17/18  1345.0  2311.0    8.0  2018-06-01 15:03:04+02:00    0\n",
       "1  17/18  1344.0  2308.0    8.0  2018-06-01 15:01:31+02:00    0\n",
       "2  17/18  1343.0  2276.0    9.5  2018-06-01 14:51:46+02:00    0\n",
       "3  17/18  1342.0  2276.0    8.5  2018-06-01 14:07:59+02:00    0\n",
       "4  17/18  1341.0  2300.0    6.0  2018-06-01 14:06:12+02:00    0"
      ],
      "text/html": "<div>\n<style scoped>\n    .dataframe tbody tr th:only-of-type {\n        vertical-align: middle;\n    }\n\n    .dataframe tbody tr th {\n        vertical-align: top;\n    }\n\n    .dataframe thead th {\n        text-align: right;\n    }\n</style>\n<table border=\"1\" class=\"dataframe\">\n  <thead>\n    <tr style=\"text-align: right;\">\n      <th></th>\n      <th>CURSO</th>\n      <th>SEQ</th>\n      <th>ID</th>\n      <th>SCORE</th>\n      <th>DATE</th>\n      <th>DUF</th>\n    </tr>\n  </thead>\n  <tbody>\n    <tr>\n      <th>0</th>\n      <td>17/18</td>\n      <td>1345.0</td>\n      <td>2311.0</td>\n      <td>8.0</td>\n      <td>2018-06-01 15:03:04+02:00</td>\n      <td>0</td>\n    </tr>\n    <tr>\n      <th>1</th>\n      <td>17/18</td>\n      <td>1344.0</td>\n      <td>2308.0</td>\n      <td>8.0</td>\n      <td>2018-06-01 15:01:31+02:00</td>\n      <td>0</td>\n    </tr>\n    <tr>\n      <th>2</th>\n      <td>17/18</td>\n      <td>1343.0</td>\n      <td>2276.0</td>\n      <td>9.5</td>\n      <td>2018-06-01 14:51:46+02:00</td>\n      <td>0</td>\n    </tr>\n    <tr>\n      <th>3</th>\n      <td>17/18</td>\n      <td>1342.0</td>\n      <td>2276.0</td>\n      <td>8.5</td>\n      <td>2018-06-01 14:07:59+02:00</td>\n      <td>0</td>\n    </tr>\n    <tr>\n      <th>4</th>\n      <td>17/18</td>\n      <td>1341.0</td>\n      <td>2300.0</td>\n      <td>6.0</td>\n      <td>2018-06-01 14:06:12+02:00</td>\n      <td>0</td>\n    </tr>\n  </tbody>\n</table>\n</div>"
     },
     "metadata": {},
     "execution_count": 14
    }
   ],
   "source": [
    "data1.head()"
   ]
  },
  {
   "cell_type": "code",
   "execution_count": 15,
   "metadata": {},
   "outputs": [
    {
     "output_type": "execute_result",
     "data": {
      "text/plain": [
       "                  SCORE                       DATE  DUF\n",
       "ID     CURSO                                           \n",
       "2213.0 17/18 56     8.0  2018-06-01 11:50:03+02:00    0\n",
       "             140    6.5  2018-06-01 00:38:06+02:00    0\n",
       "             188    3.0  2018-05-31 20:31:40+02:00    0\n",
       "2215.0 17/18 75     8.5  2018-06-01 11:16:11+02:00    0\n",
       "             135    7.5  2018-06-01 01:42:42+02:00    0\n",
       "             182   10.0  2018-05-31 20:37:15+02:00    0\n",
       "2217.0 17/18 464    6.0  2018-05-30 16:08:59+02:00    1\n",
       "             478    6.0  2018-05-30 13:06:44+02:00    2\n",
       "             782    7.0  2018-04-27 17:34:46+02:00   34\n",
       "2218.0 17/18 53     8.5  2018-06-01 11:57:50+02:00    0\n",
       "             83     7.5  2018-06-01 10:46:05+02:00    0\n",
       "             149    8.5  2018-06-01 00:08:35+02:00    0"
      ],
      "text/html": "<div>\n<style scoped>\n    .dataframe tbody tr th:only-of-type {\n        vertical-align: middle;\n    }\n\n    .dataframe tbody tr th {\n        vertical-align: top;\n    }\n\n    .dataframe thead th {\n        text-align: right;\n    }\n</style>\n<table border=\"1\" class=\"dataframe\">\n  <thead>\n    <tr style=\"text-align: right;\">\n      <th></th>\n      <th></th>\n      <th></th>\n      <th>SCORE</th>\n      <th>DATE</th>\n      <th>DUF</th>\n    </tr>\n    <tr>\n      <th>ID</th>\n      <th>CURSO</th>\n      <th></th>\n      <th></th>\n      <th></th>\n      <th></th>\n    </tr>\n  </thead>\n  <tbody>\n    <tr>\n      <th rowspan=\"3\" valign=\"top\">2213.0</th>\n      <th rowspan=\"3\" valign=\"top\">17/18</th>\n      <th>56</th>\n      <td>8.0</td>\n      <td>2018-06-01 11:50:03+02:00</td>\n      <td>0</td>\n    </tr>\n    <tr>\n      <th>140</th>\n      <td>6.5</td>\n      <td>2018-06-01 00:38:06+02:00</td>\n      <td>0</td>\n    </tr>\n    <tr>\n      <th>188</th>\n      <td>3.0</td>\n      <td>2018-05-31 20:31:40+02:00</td>\n      <td>0</td>\n    </tr>\n    <tr>\n      <th rowspan=\"3\" valign=\"top\">2215.0</th>\n      <th rowspan=\"3\" valign=\"top\">17/18</th>\n      <th>75</th>\n      <td>8.5</td>\n      <td>2018-06-01 11:16:11+02:00</td>\n      <td>0</td>\n    </tr>\n    <tr>\n      <th>135</th>\n      <td>7.5</td>\n      <td>2018-06-01 01:42:42+02:00</td>\n      <td>0</td>\n    </tr>\n    <tr>\n      <th>182</th>\n      <td>10.0</td>\n      <td>2018-05-31 20:37:15+02:00</td>\n      <td>0</td>\n    </tr>\n    <tr>\n      <th rowspan=\"3\" valign=\"top\">2217.0</th>\n      <th rowspan=\"3\" valign=\"top\">17/18</th>\n      <th>464</th>\n      <td>6.0</td>\n      <td>2018-05-30 16:08:59+02:00</td>\n      <td>1</td>\n    </tr>\n    <tr>\n      <th>478</th>\n      <td>6.0</td>\n      <td>2018-05-30 13:06:44+02:00</td>\n      <td>2</td>\n    </tr>\n    <tr>\n      <th>782</th>\n      <td>7.0</td>\n      <td>2018-04-27 17:34:46+02:00</td>\n      <td>34</td>\n    </tr>\n    <tr>\n      <th rowspan=\"3\" valign=\"top\">2218.0</th>\n      <th rowspan=\"3\" valign=\"top\">17/18</th>\n      <th>53</th>\n      <td>8.5</td>\n      <td>2018-06-01 11:57:50+02:00</td>\n      <td>0</td>\n    </tr>\n    <tr>\n      <th>83</th>\n      <td>7.5</td>\n      <td>2018-06-01 10:46:05+02:00</td>\n      <td>0</td>\n    </tr>\n    <tr>\n      <th>149</th>\n      <td>8.5</td>\n      <td>2018-06-01 00:08:35+02:00</td>\n      <td>0</td>\n    </tr>\n  </tbody>\n</table>\n</div>"
     },
     "metadata": {},
     "execution_count": 15
    }
   ],
   "source": [
    "data1 = data1.groupby(['ID', 'CURSO'])['SCORE', 'DATE', 'DUF'].apply(lambda x: x.sort_values(['DATE'], ascending=False).head(3))\n",
    "data1.head(12)"
   ]
  },
  {
   "cell_type": "code",
   "execution_count": 16,
   "metadata": {},
   "outputs": [
    {
     "output_type": "execute_result",
     "data": {
      "text/plain": [
       "     CURSO  SCORE  DUF\n",
       "0    17/18    8.0    0\n",
       "1    17/18    6.5    0\n",
       "2    17/18    3.0    0\n",
       "3    17/18    8.5    0\n",
       "4    17/18    7.5    0\n",
       "..     ...    ...  ...\n",
       "614  19/20    5.0    8\n",
       "615  19/20    5.0   10\n",
       "616  19/20    7.5    3\n",
       "617  19/20    7.5    4\n",
       "618  19/20    5.5    9\n",
       "\n",
       "[619 rows x 3 columns]"
      ],
      "text/html": "<div>\n<style scoped>\n    .dataframe tbody tr th:only-of-type {\n        vertical-align: middle;\n    }\n\n    .dataframe tbody tr th {\n        vertical-align: top;\n    }\n\n    .dataframe thead th {\n        text-align: right;\n    }\n</style>\n<table border=\"1\" class=\"dataframe\">\n  <thead>\n    <tr style=\"text-align: right;\">\n      <th></th>\n      <th>CURSO</th>\n      <th>SCORE</th>\n      <th>DUF</th>\n    </tr>\n  </thead>\n  <tbody>\n    <tr>\n      <th>0</th>\n      <td>17/18</td>\n      <td>8.0</td>\n      <td>0</td>\n    </tr>\n    <tr>\n      <th>1</th>\n      <td>17/18</td>\n      <td>6.5</td>\n      <td>0</td>\n    </tr>\n    <tr>\n      <th>2</th>\n      <td>17/18</td>\n      <td>3.0</td>\n      <td>0</td>\n    </tr>\n    <tr>\n      <th>3</th>\n      <td>17/18</td>\n      <td>8.5</td>\n      <td>0</td>\n    </tr>\n    <tr>\n      <th>4</th>\n      <td>17/18</td>\n      <td>7.5</td>\n      <td>0</td>\n    </tr>\n    <tr>\n      <th>...</th>\n      <td>...</td>\n      <td>...</td>\n      <td>...</td>\n    </tr>\n    <tr>\n      <th>614</th>\n      <td>19/20</td>\n      <td>5.0</td>\n      <td>8</td>\n    </tr>\n    <tr>\n      <th>615</th>\n      <td>19/20</td>\n      <td>5.0</td>\n      <td>10</td>\n    </tr>\n    <tr>\n      <th>616</th>\n      <td>19/20</td>\n      <td>7.5</td>\n      <td>3</td>\n    </tr>\n    <tr>\n      <th>617</th>\n      <td>19/20</td>\n      <td>7.5</td>\n      <td>4</td>\n    </tr>\n    <tr>\n      <th>618</th>\n      <td>19/20</td>\n      <td>5.5</td>\n      <td>9</td>\n    </tr>\n  </tbody>\n</table>\n<p>619 rows × 3 columns</p>\n</div>"
     },
     "metadata": {},
     "execution_count": 16
    }
   ],
   "source": [
    "data1.reset_index(drop=False)[['CURSO', 'SCORE', 'DUF']]"
   ]
  },
  {
   "cell_type": "code",
   "execution_count": 17,
   "metadata": {},
   "outputs": [
    {
     "output_type": "execute_result",
     "data": {
      "text/plain": [
       "       ID  CURSO  level_2  SCORE                       DATE  DUF\n",
       "0  2213.0  17/18       56    8.0  2018-06-01 11:50:03+02:00    0\n",
       "1  2213.0  17/18      140    6.5  2018-06-01 00:38:06+02:00    0\n",
       "2  2213.0  17/18      188    3.0  2018-05-31 20:31:40+02:00    0\n",
       "3  2215.0  17/18       75    8.5  2018-06-01 11:16:11+02:00    0\n",
       "4  2215.0  17/18      135    7.5  2018-06-01 01:42:42+02:00    0"
      ],
      "text/html": "<div>\n<style scoped>\n    .dataframe tbody tr th:only-of-type {\n        vertical-align: middle;\n    }\n\n    .dataframe tbody tr th {\n        vertical-align: top;\n    }\n\n    .dataframe thead th {\n        text-align: right;\n    }\n</style>\n<table border=\"1\" class=\"dataframe\">\n  <thead>\n    <tr style=\"text-align: right;\">\n      <th></th>\n      <th>ID</th>\n      <th>CURSO</th>\n      <th>level_2</th>\n      <th>SCORE</th>\n      <th>DATE</th>\n      <th>DUF</th>\n    </tr>\n  </thead>\n  <tbody>\n    <tr>\n      <th>0</th>\n      <td>2213.0</td>\n      <td>17/18</td>\n      <td>56</td>\n      <td>8.0</td>\n      <td>2018-06-01 11:50:03+02:00</td>\n      <td>0</td>\n    </tr>\n    <tr>\n      <th>1</th>\n      <td>2213.0</td>\n      <td>17/18</td>\n      <td>140</td>\n      <td>6.5</td>\n      <td>2018-06-01 00:38:06+02:00</td>\n      <td>0</td>\n    </tr>\n    <tr>\n      <th>2</th>\n      <td>2213.0</td>\n      <td>17/18</td>\n      <td>188</td>\n      <td>3.0</td>\n      <td>2018-05-31 20:31:40+02:00</td>\n      <td>0</td>\n    </tr>\n    <tr>\n      <th>3</th>\n      <td>2215.0</td>\n      <td>17/18</td>\n      <td>75</td>\n      <td>8.5</td>\n      <td>2018-06-01 11:16:11+02:00</td>\n      <td>0</td>\n    </tr>\n    <tr>\n      <th>4</th>\n      <td>2215.0</td>\n      <td>17/18</td>\n      <td>135</td>\n      <td>7.5</td>\n      <td>2018-06-01 01:42:42+02:00</td>\n      <td>0</td>\n    </tr>\n  </tbody>\n</table>\n</div>"
     },
     "metadata": {},
     "execution_count": 17
    }
   ],
   "source": [
    "data1g = data1.reset_index(drop=False)\n",
    "data1g.head()"
   ]
  },
  {
   "cell_type": "code",
   "execution_count": 18,
   "metadata": {},
   "outputs": [
    {
     "output_type": "display_data",
     "data": {
      "application/vnd.plotly.v1+json": {
       "config": {
        "plotlyServerURL": "https://plot.ly"
       },
       "data": [
        {
         "alignmentgroup": "True",
         "hovertemplate": "CURSO=%{x}<br>SCORE=%{y}<extra></extra>",
         "legendgroup": "17/18",
         "marker": {
          "color": "#636efa"
         },
         "name": "17/18",
         "notched": false,
         "offsetgroup": "17/18",
         "orientation": "v",
         "showlegend": true,
         "type": "box",
         "x": [
          "17/18",
          "17/18",
          "17/18",
          "17/18",
          "17/18",
          "17/18",
          "17/18",
          "17/18",
          "17/18",
          "17/18",
          "17/18",
          "17/18",
          "17/18",
          "17/18",
          "17/18",
          "17/18",
          "17/18",
          "17/18",
          "17/18",
          "17/18",
          "17/18",
          "17/18",
          "17/18",
          "17/18",
          "17/18",
          "17/18",
          "17/18",
          "17/18",
          "17/18",
          "17/18",
          "17/18",
          "17/18",
          "17/18",
          "17/18",
          "17/18",
          "17/18",
          "17/18",
          "17/18",
          "17/18",
          "17/18",
          "17/18",
          "17/18",
          "17/18",
          "17/18",
          "17/18",
          "17/18",
          "17/18",
          "17/18",
          "17/18",
          "17/18",
          "17/18",
          "17/18",
          "17/18",
          "17/18",
          "17/18",
          "17/18",
          "17/18",
          "17/18",
          "17/18",
          "17/18",
          "17/18",
          "17/18",
          "17/18",
          "17/18",
          "17/18",
          "17/18",
          "17/18",
          "17/18",
          "17/18",
          "17/18",
          "17/18",
          "17/18",
          "17/18",
          "17/18",
          "17/18",
          "17/18",
          "17/18",
          "17/18",
          "17/18",
          "17/18",
          "17/18",
          "17/18",
          "17/18",
          "17/18",
          "17/18",
          "17/18",
          "17/18",
          "17/18",
          "17/18",
          "17/18",
          "17/18",
          "17/18",
          "17/18",
          "17/18",
          "17/18",
          "17/18",
          "17/18",
          "17/18",
          "17/18",
          "17/18",
          "17/18",
          "17/18",
          "17/18",
          "17/18",
          "17/18",
          "17/18",
          "17/18",
          "17/18",
          "17/18",
          "17/18",
          "17/18",
          "17/18",
          "17/18",
          "17/18",
          "17/18",
          "17/18",
          "17/18",
          "17/18",
          "17/18",
          "17/18",
          "17/18",
          "17/18",
          "17/18",
          "17/18",
          "17/18",
          "17/18",
          "17/18",
          "17/18",
          "17/18",
          "17/18",
          "17/18",
          "17/18",
          "17/18",
          "17/18",
          "17/18",
          "17/18",
          "17/18",
          "17/18",
          "17/18",
          "17/18",
          "17/18",
          "17/18",
          "17/18",
          "17/18",
          "17/18",
          "17/18",
          "17/18",
          "17/18",
          "17/18",
          "17/18",
          "17/18",
          "17/18",
          "17/18",
          "17/18",
          "17/18",
          "17/18",
          "17/18",
          "17/18",
          "17/18",
          "17/18",
          "17/18",
          "17/18",
          "17/18",
          "17/18",
          "17/18",
          "17/18",
          "17/18",
          "17/18",
          "17/18",
          "17/18",
          "17/18",
          "17/18",
          "17/18",
          "17/18",
          "17/18",
          "17/18",
          "17/18",
          "17/18",
          "17/18",
          "17/18",
          "17/18",
          "17/18",
          "17/18",
          "17/18",
          "17/18",
          "17/18",
          "17/18",
          "17/18",
          "17/18",
          "17/18",
          "17/18",
          "17/18",
          "17/18",
          "17/18",
          "17/18",
          "17/18",
          "17/18",
          "17/18",
          "17/18",
          "17/18",
          "17/18",
          "17/18",
          "17/18",
          "17/18",
          "17/18",
          "17/18",
          "17/18",
          "17/18"
         ],
         "x0": " ",
         "xaxis": "x",
         "y": [
          8,
          6.5,
          3,
          8.5,
          7.5,
          10,
          6,
          6,
          7,
          8.5,
          7.5,
          8.5,
          10,
          10,
          5,
          10,
          9.5,
          8,
          10,
          9.5,
          10,
          9,
          8.5,
          9,
          8,
          7.5,
          7.5,
          7.5,
          6.5,
          9,
          3,
          10,
          5,
          4.5,
          7.5,
          7.5,
          7.5,
          8.5,
          7.5,
          7.5,
          9.5,
          10,
          9.5,
          9.5,
          9,
          9.5,
          8.5,
          8,
          7.5,
          10,
          10,
          10,
          7.5,
          5.5,
          4.5,
          8,
          7.5,
          7.5,
          7,
          7.5,
          5,
          9.5,
          8.5,
          7.5,
          9.5,
          8.5,
          9,
          7.5,
          7.5,
          8,
          5.5,
          4,
          3,
          9,
          9.5,
          8.5,
          9,
          9,
          9,
          9.5,
          9,
          10,
          10,
          9.5,
          10,
          10,
          8.5,
          8.5,
          9.5,
          10,
          8.5,
          7,
          7,
          6.5,
          9.5,
          9.5,
          10,
          8.5,
          9.5,
          10,
          9.5,
          8,
          7.5,
          8,
          0,
          0,
          9.5,
          8.5,
          9.5,
          8.5,
          7.5,
          6,
          5.5,
          2,
          9.5,
          5,
          3.5,
          4,
          9.5,
          9,
          8,
          10,
          10,
          10,
          5,
          3.5,
          9.5,
          7.5,
          9,
          9.5,
          9,
          8,
          10,
          10,
          9,
          6,
          3,
          3,
          8.5,
          8,
          7.5,
          10,
          8.5,
          8,
          8.5,
          9,
          8,
          8.5,
          8,
          7.5,
          7.5,
          9.5,
          9,
          9.5,
          10,
          10,
          8,
          8,
          7.5,
          7.5,
          4.5,
          5.5,
          4.5,
          0.5,
          8.5,
          6,
          6.5,
          4.5,
          7.5,
          7.5,
          8,
          3.5,
          9,
          7.5,
          7,
          10,
          9,
          9.5,
          8.5,
          8.5,
          8,
          8,
          7.5,
          8,
          8,
          5.5,
          4,
          8,
          8,
          7.5,
          8,
          7,
          8.5,
          10,
          10,
          9,
          9,
          8.5,
          8.5,
          6.5,
          8,
          6.5,
          4.5,
          7.5,
          7.5,
          6,
          8,
          6
         ],
         "y0": " ",
         "yaxis": "y"
        },
        {
         "alignmentgroup": "True",
         "hovertemplate": "CURSO=%{x}<br>SCORE=%{y}<extra></extra>",
         "legendgroup": "18/19",
         "marker": {
          "color": "#EF553B"
         },
         "name": "18/19",
         "notched": false,
         "offsetgroup": "18/19",
         "orientation": "v",
         "showlegend": true,
         "type": "box",
         "x": [
          "18/19",
          "18/19",
          "18/19",
          "18/19",
          "18/19",
          "18/19",
          "18/19",
          "18/19",
          "18/19",
          "18/19",
          "18/19",
          "18/19",
          "18/19",
          "18/19",
          "18/19",
          "18/19",
          "18/19",
          "18/19",
          "18/19",
          "18/19",
          "18/19",
          "18/19",
          "18/19",
          "18/19",
          "18/19",
          "18/19",
          "18/19",
          "18/19",
          "18/19",
          "18/19",
          "18/19",
          "18/19",
          "18/19",
          "18/19",
          "18/19",
          "18/19",
          "18/19",
          "18/19",
          "18/19",
          "18/19",
          "18/19",
          "18/19",
          "18/19",
          "18/19",
          "18/19",
          "18/19",
          "18/19",
          "18/19",
          "18/19",
          "18/19",
          "18/19",
          "18/19",
          "18/19",
          "18/19",
          "18/19",
          "18/19",
          "18/19",
          "18/19",
          "18/19",
          "18/19",
          "18/19",
          "18/19",
          "18/19",
          "18/19",
          "18/19",
          "18/19",
          "18/19",
          "18/19",
          "18/19",
          "18/19",
          "18/19",
          "18/19",
          "18/19",
          "18/19",
          "18/19",
          "18/19",
          "18/19",
          "18/19",
          "18/19",
          "18/19",
          "18/19",
          "18/19",
          "18/19",
          "18/19",
          "18/19",
          "18/19",
          "18/19",
          "18/19",
          "18/19",
          "18/19",
          "18/19",
          "18/19",
          "18/19",
          "18/19",
          "18/19",
          "18/19",
          "18/19",
          "18/19",
          "18/19",
          "18/19",
          "18/19",
          "18/19",
          "18/19",
          "18/19",
          "18/19",
          "18/19",
          "18/19",
          "18/19",
          "18/19",
          "18/19",
          "18/19",
          "18/19",
          "18/19",
          "18/19",
          "18/19",
          "18/19",
          "18/19",
          "18/19",
          "18/19",
          "18/19",
          "18/19",
          "18/19",
          "18/19",
          "18/19",
          "18/19",
          "18/19",
          "18/19",
          "18/19",
          "18/19",
          "18/19",
          "18/19",
          "18/19",
          "18/19",
          "18/19",
          "18/19",
          "18/19",
          "18/19",
          "18/19",
          "18/19",
          "18/19",
          "18/19",
          "18/19",
          "18/19",
          "18/19",
          "18/19",
          "18/19",
          "18/19",
          "18/19",
          "18/19",
          "18/19",
          "18/19",
          "18/19",
          "18/19",
          "18/19",
          "18/19",
          "18/19",
          "18/19",
          "18/19",
          "18/19",
          "18/19",
          "18/19",
          "18/19",
          "18/19",
          "18/19",
          "18/19",
          "18/19",
          "18/19",
          "18/19",
          "18/19",
          "18/19",
          "18/19",
          "18/19",
          "18/19",
          "18/19",
          "18/19",
          "18/19",
          "18/19",
          "18/19",
          "18/19",
          "18/19",
          "18/19"
         ],
         "x0": " ",
         "xaxis": "x",
         "y": [
          10,
          10,
          9,
          5,
          7.5,
          7.5,
          7,
          7.5,
          8,
          8,
          9,
          9,
          9,
          7.5,
          7,
          5.5,
          7,
          3.5,
          3,
          8.5,
          8.5,
          9,
          10,
          8.5,
          7.5,
          8.5,
          5.5,
          3,
          1.5,
          8,
          7.5,
          6.5,
          7.5,
          8,
          5,
          7,
          3.5,
          5,
          5.5,
          8,
          5,
          7.5,
          6.5,
          3,
          7,
          6,
          9.5,
          6,
          7.5,
          7.5,
          7.5,
          7.5,
          7,
          6.5,
          4,
          3,
          9,
          9.5,
          1.5,
          7.5,
          7.5,
          5.5,
          7.5,
          7.5,
          5.5,
          7.5,
          6.5,
          7,
          8.5,
          7.5,
          8.5,
          8,
          8,
          8.5,
          8,
          8,
          8,
          7.5,
          7.5,
          0,
          6,
          5.5,
          6,
          6,
          7,
          7.5,
          8.5,
          6,
          9,
          10,
          9.5,
          7.5,
          3,
          0,
          9.5,
          10,
          10,
          7,
          6.5,
          6.5,
          2,
          9,
          9.5,
          8.5,
          7.5,
          7,
          7,
          10,
          10,
          10,
          7.5,
          7.5,
          7.5,
          7.5,
          7.5,
          4.5,
          9.5,
          9,
          7.5,
          8,
          8,
          6,
          5,
          5.5,
          9,
          10,
          9,
          10,
          10,
          7.5,
          7.5,
          7.5,
          9,
          8.5,
          10,
          7,
          6,
          5.5,
          10,
          9.5,
          9.5,
          3,
          2,
          7.5,
          7.5,
          5.5,
          5,
          3,
          9,
          9,
          8,
          8.5,
          7.5,
          6,
          7,
          5,
          4.5,
          5,
          5,
          2.5,
          7,
          7.5,
          6,
          8.5,
          9,
          9,
          8,
          7.5,
          0.5,
          8,
          8,
          7,
          8,
          9.5,
          7.5,
          9,
          7.5,
          7.5,
          6,
          9,
          4.5
         ],
         "y0": " ",
         "yaxis": "y"
        },
        {
         "alignmentgroup": "True",
         "hovertemplate": "CURSO=%{x}<br>SCORE=%{y}<extra></extra>",
         "legendgroup": "19/20",
         "marker": {
          "color": "#00cc96"
         },
         "name": "19/20",
         "notched": false,
         "offsetgroup": "19/20",
         "orientation": "v",
         "showlegend": true,
         "type": "box",
         "x": [
          "19/20",
          "19/20",
          "19/20",
          "19/20",
          "19/20",
          "19/20",
          "19/20",
          "19/20",
          "19/20",
          "19/20",
          "19/20",
          "19/20",
          "19/20",
          "19/20",
          "19/20",
          "19/20",
          "19/20",
          "19/20",
          "19/20",
          "19/20",
          "19/20",
          "19/20",
          "19/20",
          "19/20",
          "19/20",
          "19/20",
          "19/20",
          "19/20",
          "19/20",
          "19/20",
          "19/20",
          "19/20",
          "19/20",
          "19/20",
          "19/20",
          "19/20",
          "19/20",
          "19/20",
          "19/20",
          "19/20",
          "19/20",
          "19/20",
          "19/20",
          "19/20",
          "19/20",
          "19/20",
          "19/20",
          "19/20",
          "19/20",
          "19/20",
          "19/20",
          "19/20",
          "19/20",
          "19/20",
          "19/20",
          "19/20",
          "19/20",
          "19/20",
          "19/20",
          "19/20",
          "19/20",
          "19/20",
          "19/20",
          "19/20",
          "19/20",
          "19/20",
          "19/20",
          "19/20",
          "19/20",
          "19/20",
          "19/20",
          "19/20",
          "19/20",
          "19/20",
          "19/20",
          "19/20",
          "19/20",
          "19/20",
          "19/20",
          "19/20",
          "19/20",
          "19/20",
          "19/20",
          "19/20",
          "19/20",
          "19/20",
          "19/20",
          "19/20",
          "19/20",
          "19/20",
          "19/20",
          "19/20",
          "19/20",
          "19/20",
          "19/20",
          "19/20",
          "19/20",
          "19/20",
          "19/20",
          "19/20",
          "19/20",
          "19/20",
          "19/20",
          "19/20",
          "19/20",
          "19/20",
          "19/20",
          "19/20",
          "19/20",
          "19/20",
          "19/20",
          "19/20",
          "19/20",
          "19/20",
          "19/20",
          "19/20",
          "19/20",
          "19/20",
          "19/20",
          "19/20",
          "19/20",
          "19/20",
          "19/20",
          "19/20",
          "19/20",
          "19/20",
          "19/20",
          "19/20",
          "19/20",
          "19/20",
          "19/20",
          "19/20",
          "19/20",
          "19/20",
          "19/20",
          "19/20",
          "19/20",
          "19/20",
          "19/20",
          "19/20",
          "19/20",
          "19/20",
          "19/20",
          "19/20",
          "19/20",
          "19/20",
          "19/20",
          "19/20",
          "19/20",
          "19/20",
          "19/20",
          "19/20",
          "19/20",
          "19/20",
          "19/20",
          "19/20",
          "19/20",
          "19/20",
          "19/20",
          "19/20",
          "19/20",
          "19/20",
          "19/20",
          "19/20",
          "19/20",
          "19/20",
          "19/20",
          "19/20",
          "19/20",
          "19/20",
          "19/20",
          "19/20",
          "19/20",
          "19/20",
          "19/20",
          "19/20",
          "19/20",
          "19/20",
          "19/20",
          "19/20",
          "19/20",
          "19/20",
          "19/20",
          "19/20",
          "19/20",
          "19/20",
          "19/20",
          "19/20",
          "19/20",
          "19/20",
          "19/20",
          "19/20",
          "19/20",
          "19/20",
          "19/20",
          "19/20",
          "19/20",
          "19/20",
          "19/20",
          "19/20",
          "19/20",
          "19/20",
          "19/20",
          "19/20",
          "19/20",
          "19/20",
          "19/20",
          "19/20",
          "19/20",
          "19/20",
          "19/20",
          "19/20",
          "19/20",
          "19/20",
          "19/20",
          "19/20",
          "19/20",
          "19/20",
          "19/20",
          "19/20",
          "19/20",
          "19/20",
          "19/20",
          "19/20",
          "19/20",
          "19/20",
          "19/20",
          "19/20",
          "19/20",
          "19/20"
         ],
         "x0": " ",
         "xaxis": "x",
         "y": [
          8.5,
          8.5,
          9,
          7.5,
          7.5,
          7,
          9.5,
          8.5,
          8.5,
          7.5,
          8,
          7,
          7,
          6,
          5,
          8,
          8,
          7.5,
          8,
          7.5,
          6,
          8.5,
          7.5,
          7.5,
          8,
          8,
          7.5,
          8,
          8,
          7.5,
          8,
          7.5,
          5.5,
          7.5,
          7,
          6.5,
          7,
          5.5,
          5.5,
          8,
          8,
          7.5,
          5,
          5.5,
          5,
          5.5,
          5.5,
          5,
          8.5,
          8,
          7.5,
          7.5,
          7.5,
          7.5,
          8,
          7.5,
          8,
          8,
          7.5,
          7.5,
          7.5,
          7,
          6.5,
          9,
          9,
          8.5,
          9,
          7.5,
          7.5,
          7.5,
          7,
          6,
          7.5,
          6,
          9,
          8.5,
          8,
          6.5,
          6.5,
          5.5,
          5,
          5,
          7.5,
          7,
          5.5,
          7,
          5.5,
          5.5,
          6.5,
          7.5,
          6,
          8,
          8,
          7.5,
          6.5,
          7,
          5,
          8,
          8,
          5,
          5,
          5,
          2.5,
          8,
          9,
          6,
          7,
          6.5,
          5,
          8,
          6,
          6,
          4.5,
          3,
          4,
          7.5,
          7,
          5,
          7,
          6,
          5,
          8,
          7,
          6.5,
          5,
          5,
          5,
          8,
          7,
          5,
          8.5,
          8.5,
          8,
          7.5,
          6,
          5,
          8,
          7.5,
          5.5,
          7.5,
          5,
          7.5,
          5,
          5,
          5,
          1.5,
          7,
          6,
          5,
          7.5,
          7.5,
          6.5,
          8,
          6,
          6.5,
          7.5,
          6.5,
          7.5,
          4,
          3,
          8,
          7,
          6.5,
          6.5,
          5,
          5.5,
          8.5,
          8,
          7,
          5,
          5,
          5,
          6.5,
          6.5,
          5.5,
          8,
          8,
          8,
          5,
          5,
          3.5,
          5,
          4,
          5,
          5.5,
          5,
          4.5,
          7.5,
          6,
          5.5,
          5,
          3,
          5,
          7.5,
          7.5,
          7.5,
          5,
          5,
          5,
          2.5,
          5,
          5,
          6.5,
          5.5,
          5,
          5.5,
          5,
          5.5,
          8,
          6,
          5.5,
          7,
          6,
          5,
          8,
          7.5,
          7.5,
          7.5,
          9,
          7.5,
          8,
          5.5,
          5,
          6.5,
          5.5,
          5,
          5,
          7.5,
          7.5,
          5.5
         ],
         "y0": " ",
         "yaxis": "y"
        }
       ],
       "layout": {
        "boxmode": "overlay",
        "legend": {
         "title": {
          "text": "CURSO"
         },
         "tracegroupgap": 0
        },
        "margin": {
         "t": 60
        },
        "template": {
         "data": {
          "bar": [
           {
            "error_x": {
             "color": "#2a3f5f"
            },
            "error_y": {
             "color": "#2a3f5f"
            },
            "marker": {
             "line": {
              "color": "#E5ECF6",
              "width": 0.5
             }
            },
            "type": "bar"
           }
          ],
          "barpolar": [
           {
            "marker": {
             "line": {
              "color": "#E5ECF6",
              "width": 0.5
             }
            },
            "type": "barpolar"
           }
          ],
          "carpet": [
           {
            "aaxis": {
             "endlinecolor": "#2a3f5f",
             "gridcolor": "white",
             "linecolor": "white",
             "minorgridcolor": "white",
             "startlinecolor": "#2a3f5f"
            },
            "baxis": {
             "endlinecolor": "#2a3f5f",
             "gridcolor": "white",
             "linecolor": "white",
             "minorgridcolor": "white",
             "startlinecolor": "#2a3f5f"
            },
            "type": "carpet"
           }
          ],
          "choropleth": [
           {
            "colorbar": {
             "outlinewidth": 0,
             "ticks": ""
            },
            "type": "choropleth"
           }
          ],
          "contour": [
           {
            "colorbar": {
             "outlinewidth": 0,
             "ticks": ""
            },
            "colorscale": [
             [
              0,
              "#0d0887"
             ],
             [
              0.1111111111111111,
              "#46039f"
             ],
             [
              0.2222222222222222,
              "#7201a8"
             ],
             [
              0.3333333333333333,
              "#9c179e"
             ],
             [
              0.4444444444444444,
              "#bd3786"
             ],
             [
              0.5555555555555556,
              "#d8576b"
             ],
             [
              0.6666666666666666,
              "#ed7953"
             ],
             [
              0.7777777777777778,
              "#fb9f3a"
             ],
             [
              0.8888888888888888,
              "#fdca26"
             ],
             [
              1,
              "#f0f921"
             ]
            ],
            "type": "contour"
           }
          ],
          "contourcarpet": [
           {
            "colorbar": {
             "outlinewidth": 0,
             "ticks": ""
            },
            "type": "contourcarpet"
           }
          ],
          "heatmap": [
           {
            "colorbar": {
             "outlinewidth": 0,
             "ticks": ""
            },
            "colorscale": [
             [
              0,
              "#0d0887"
             ],
             [
              0.1111111111111111,
              "#46039f"
             ],
             [
              0.2222222222222222,
              "#7201a8"
             ],
             [
              0.3333333333333333,
              "#9c179e"
             ],
             [
              0.4444444444444444,
              "#bd3786"
             ],
             [
              0.5555555555555556,
              "#d8576b"
             ],
             [
              0.6666666666666666,
              "#ed7953"
             ],
             [
              0.7777777777777778,
              "#fb9f3a"
             ],
             [
              0.8888888888888888,
              "#fdca26"
             ],
             [
              1,
              "#f0f921"
             ]
            ],
            "type": "heatmap"
           }
          ],
          "heatmapgl": [
           {
            "colorbar": {
             "outlinewidth": 0,
             "ticks": ""
            },
            "colorscale": [
             [
              0,
              "#0d0887"
             ],
             [
              0.1111111111111111,
              "#46039f"
             ],
             [
              0.2222222222222222,
              "#7201a8"
             ],
             [
              0.3333333333333333,
              "#9c179e"
             ],
             [
              0.4444444444444444,
              "#bd3786"
             ],
             [
              0.5555555555555556,
              "#d8576b"
             ],
             [
              0.6666666666666666,
              "#ed7953"
             ],
             [
              0.7777777777777778,
              "#fb9f3a"
             ],
             [
              0.8888888888888888,
              "#fdca26"
             ],
             [
              1,
              "#f0f921"
             ]
            ],
            "type": "heatmapgl"
           }
          ],
          "histogram": [
           {
            "marker": {
             "colorbar": {
              "outlinewidth": 0,
              "ticks": ""
             }
            },
            "type": "histogram"
           }
          ],
          "histogram2d": [
           {
            "colorbar": {
             "outlinewidth": 0,
             "ticks": ""
            },
            "colorscale": [
             [
              0,
              "#0d0887"
             ],
             [
              0.1111111111111111,
              "#46039f"
             ],
             [
              0.2222222222222222,
              "#7201a8"
             ],
             [
              0.3333333333333333,
              "#9c179e"
             ],
             [
              0.4444444444444444,
              "#bd3786"
             ],
             [
              0.5555555555555556,
              "#d8576b"
             ],
             [
              0.6666666666666666,
              "#ed7953"
             ],
             [
              0.7777777777777778,
              "#fb9f3a"
             ],
             [
              0.8888888888888888,
              "#fdca26"
             ],
             [
              1,
              "#f0f921"
             ]
            ],
            "type": "histogram2d"
           }
          ],
          "histogram2dcontour": [
           {
            "colorbar": {
             "outlinewidth": 0,
             "ticks": ""
            },
            "colorscale": [
             [
              0,
              "#0d0887"
             ],
             [
              0.1111111111111111,
              "#46039f"
             ],
             [
              0.2222222222222222,
              "#7201a8"
             ],
             [
              0.3333333333333333,
              "#9c179e"
             ],
             [
              0.4444444444444444,
              "#bd3786"
             ],
             [
              0.5555555555555556,
              "#d8576b"
             ],
             [
              0.6666666666666666,
              "#ed7953"
             ],
             [
              0.7777777777777778,
              "#fb9f3a"
             ],
             [
              0.8888888888888888,
              "#fdca26"
             ],
             [
              1,
              "#f0f921"
             ]
            ],
            "type": "histogram2dcontour"
           }
          ],
          "mesh3d": [
           {
            "colorbar": {
             "outlinewidth": 0,
             "ticks": ""
            },
            "type": "mesh3d"
           }
          ],
          "parcoords": [
           {
            "line": {
             "colorbar": {
              "outlinewidth": 0,
              "ticks": ""
             }
            },
            "type": "parcoords"
           }
          ],
          "pie": [
           {
            "automargin": true,
            "type": "pie"
           }
          ],
          "scatter": [
           {
            "marker": {
             "colorbar": {
              "outlinewidth": 0,
              "ticks": ""
             }
            },
            "type": "scatter"
           }
          ],
          "scatter3d": [
           {
            "line": {
             "colorbar": {
              "outlinewidth": 0,
              "ticks": ""
             }
            },
            "marker": {
             "colorbar": {
              "outlinewidth": 0,
              "ticks": ""
             }
            },
            "type": "scatter3d"
           }
          ],
          "scattercarpet": [
           {
            "marker": {
             "colorbar": {
              "outlinewidth": 0,
              "ticks": ""
             }
            },
            "type": "scattercarpet"
           }
          ],
          "scattergeo": [
           {
            "marker": {
             "colorbar": {
              "outlinewidth": 0,
              "ticks": ""
             }
            },
            "type": "scattergeo"
           }
          ],
          "scattergl": [
           {
            "marker": {
             "colorbar": {
              "outlinewidth": 0,
              "ticks": ""
             }
            },
            "type": "scattergl"
           }
          ],
          "scattermapbox": [
           {
            "marker": {
             "colorbar": {
              "outlinewidth": 0,
              "ticks": ""
             }
            },
            "type": "scattermapbox"
           }
          ],
          "scatterpolar": [
           {
            "marker": {
             "colorbar": {
              "outlinewidth": 0,
              "ticks": ""
             }
            },
            "type": "scatterpolar"
           }
          ],
          "scatterpolargl": [
           {
            "marker": {
             "colorbar": {
              "outlinewidth": 0,
              "ticks": ""
             }
            },
            "type": "scatterpolargl"
           }
          ],
          "scatterternary": [
           {
            "marker": {
             "colorbar": {
              "outlinewidth": 0,
              "ticks": ""
             }
            },
            "type": "scatterternary"
           }
          ],
          "surface": [
           {
            "colorbar": {
             "outlinewidth": 0,
             "ticks": ""
            },
            "colorscale": [
             [
              0,
              "#0d0887"
             ],
             [
              0.1111111111111111,
              "#46039f"
             ],
             [
              0.2222222222222222,
              "#7201a8"
             ],
             [
              0.3333333333333333,
              "#9c179e"
             ],
             [
              0.4444444444444444,
              "#bd3786"
             ],
             [
              0.5555555555555556,
              "#d8576b"
             ],
             [
              0.6666666666666666,
              "#ed7953"
             ],
             [
              0.7777777777777778,
              "#fb9f3a"
             ],
             [
              0.8888888888888888,
              "#fdca26"
             ],
             [
              1,
              "#f0f921"
             ]
            ],
            "type": "surface"
           }
          ],
          "table": [
           {
            "cells": {
             "fill": {
              "color": "#EBF0F8"
             },
             "line": {
              "color": "white"
             }
            },
            "header": {
             "fill": {
              "color": "#C8D4E3"
             },
             "line": {
              "color": "white"
             }
            },
            "type": "table"
           }
          ]
         },
         "layout": {
          "annotationdefaults": {
           "arrowcolor": "#2a3f5f",
           "arrowhead": 0,
           "arrowwidth": 1
          },
          "autotypenumbers": "strict",
          "coloraxis": {
           "colorbar": {
            "outlinewidth": 0,
            "ticks": ""
           }
          },
          "colorscale": {
           "diverging": [
            [
             0,
             "#8e0152"
            ],
            [
             0.1,
             "#c51b7d"
            ],
            [
             0.2,
             "#de77ae"
            ],
            [
             0.3,
             "#f1b6da"
            ],
            [
             0.4,
             "#fde0ef"
            ],
            [
             0.5,
             "#f7f7f7"
            ],
            [
             0.6,
             "#e6f5d0"
            ],
            [
             0.7,
             "#b8e186"
            ],
            [
             0.8,
             "#7fbc41"
            ],
            [
             0.9,
             "#4d9221"
            ],
            [
             1,
             "#276419"
            ]
           ],
           "sequential": [
            [
             0,
             "#0d0887"
            ],
            [
             0.1111111111111111,
             "#46039f"
            ],
            [
             0.2222222222222222,
             "#7201a8"
            ],
            [
             0.3333333333333333,
             "#9c179e"
            ],
            [
             0.4444444444444444,
             "#bd3786"
            ],
            [
             0.5555555555555556,
             "#d8576b"
            ],
            [
             0.6666666666666666,
             "#ed7953"
            ],
            [
             0.7777777777777778,
             "#fb9f3a"
            ],
            [
             0.8888888888888888,
             "#fdca26"
            ],
            [
             1,
             "#f0f921"
            ]
           ],
           "sequentialminus": [
            [
             0,
             "#0d0887"
            ],
            [
             0.1111111111111111,
             "#46039f"
            ],
            [
             0.2222222222222222,
             "#7201a8"
            ],
            [
             0.3333333333333333,
             "#9c179e"
            ],
            [
             0.4444444444444444,
             "#bd3786"
            ],
            [
             0.5555555555555556,
             "#d8576b"
            ],
            [
             0.6666666666666666,
             "#ed7953"
            ],
            [
             0.7777777777777778,
             "#fb9f3a"
            ],
            [
             0.8888888888888888,
             "#fdca26"
            ],
            [
             1,
             "#f0f921"
            ]
           ]
          },
          "colorway": [
           "#636efa",
           "#EF553B",
           "#00cc96",
           "#ab63fa",
           "#FFA15A",
           "#19d3f3",
           "#FF6692",
           "#B6E880",
           "#FF97FF",
           "#FECB52"
          ],
          "font": {
           "color": "#2a3f5f"
          },
          "geo": {
           "bgcolor": "white",
           "lakecolor": "white",
           "landcolor": "#E5ECF6",
           "showlakes": true,
           "showland": true,
           "subunitcolor": "white"
          },
          "hoverlabel": {
           "align": "left"
          },
          "hovermode": "closest",
          "mapbox": {
           "style": "light"
          },
          "paper_bgcolor": "white",
          "plot_bgcolor": "#E5ECF6",
          "polar": {
           "angularaxis": {
            "gridcolor": "white",
            "linecolor": "white",
            "ticks": ""
           },
           "bgcolor": "#E5ECF6",
           "radialaxis": {
            "gridcolor": "white",
            "linecolor": "white",
            "ticks": ""
           }
          },
          "scene": {
           "xaxis": {
            "backgroundcolor": "#E5ECF6",
            "gridcolor": "white",
            "gridwidth": 2,
            "linecolor": "white",
            "showbackground": true,
            "ticks": "",
            "zerolinecolor": "white"
           },
           "yaxis": {
            "backgroundcolor": "#E5ECF6",
            "gridcolor": "white",
            "gridwidth": 2,
            "linecolor": "white",
            "showbackground": true,
            "ticks": "",
            "zerolinecolor": "white"
           },
           "zaxis": {
            "backgroundcolor": "#E5ECF6",
            "gridcolor": "white",
            "gridwidth": 2,
            "linecolor": "white",
            "showbackground": true,
            "ticks": "",
            "zerolinecolor": "white"
           }
          },
          "shapedefaults": {
           "line": {
            "color": "#2a3f5f"
           }
          },
          "ternary": {
           "aaxis": {
            "gridcolor": "white",
            "linecolor": "white",
            "ticks": ""
           },
           "baxis": {
            "gridcolor": "white",
            "linecolor": "white",
            "ticks": ""
           },
           "bgcolor": "#E5ECF6",
           "caxis": {
            "gridcolor": "white",
            "linecolor": "white",
            "ticks": ""
           }
          },
          "title": {
           "x": 0.05
          },
          "xaxis": {
           "automargin": true,
           "gridcolor": "white",
           "linecolor": "white",
           "ticks": "",
           "title": {
            "standoff": 15
           },
           "zerolinecolor": "white",
           "zerolinewidth": 2
          },
          "yaxis": {
           "automargin": true,
           "gridcolor": "white",
           "linecolor": "white",
           "ticks": "",
           "title": {
            "standoff": 15
           },
           "zerolinecolor": "white",
           "zerolinewidth": 2
          }
         }
        },
        "xaxis": {
         "anchor": "y",
         "categoryarray": [
          "17/18",
          "18/19",
          "19/20"
         ],
         "categoryorder": "array",
         "domain": [
          0,
          1
         ],
         "title": {
          "text": "CURSO"
         }
        },
        "yaxis": {
         "anchor": "x",
         "domain": [
          0,
          1
         ],
         "title": {
          "text": "SCORE"
         }
        }
       }
      }
     },
     "metadata": {}
    }
   ],
   "source": [
    "import plotly.express as px\n",
    "\n",
    "fig = px.box(data1g, x=\"CURSO\", y=\"SCORE\", color=\"CURSO\")\n",
    "# fig.write_image(\"out/caso1/boxplot_score_curso.svg\")\n",
    "\n",
    "fig.show()"
   ]
  },
  {
   "cell_type": "code",
   "execution_count": 19,
   "metadata": {},
   "outputs": [],
   "source": [
    "!conda install -c plotly plotly-orca"
   ]
  },
  {
   "cell_type": "code",
   "execution_count": null,
   "metadata": {},
   "outputs": [],
   "source": []
  }
 ]
}